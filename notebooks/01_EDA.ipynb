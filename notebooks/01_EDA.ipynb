{
 "cells": [
  {
   "cell_type": "markdown",
   "id": "ce54442e",
   "metadata": {},
   "source": [
    "# Supermart Grocery Sales – EDA\n",
    "\n",
    "This notebook explores the dataset, distribution of sales, profit, categories, and time trends."
   ]
  },
  {
   "cell_type": "code",
   "execution_count": null,
   "id": "f06daccd",
   "metadata": {},
   "outputs": [],
   "source": [
    "\n",
    "import pandas as pd\n",
    "import numpy as np\n",
    "import matplotlib.pyplot as plt\n",
    "\n",
    "df = pd.read_csv(r\"/mnt/data/Supermart-Grocery-Sales-Retail-Analytics/data/raw/supermart_sales.csv\")\n",
    "df['Order Date'] = pd.to_datetime(df['Order Date'])\n",
    "df['Year'] = df['Order Date'].dt.year\n",
    "df['Month'] = df['Order Date'].dt.month\n",
    "\n",
    "print(\"Rows, Columns:\", df.shape)\n",
    "display(df.head())\n",
    "\n",
    "print(\"\\nSummary:\")\n",
    "display(df.describe(include='all'))\n"
   ]
  },
  {
   "cell_type": "code",
   "execution_count": null,
   "id": "0794d902",
   "metadata": {},
   "outputs": [],
   "source": [
    "\n",
    "# Sales by Category\n",
    "cat_sales = df.groupby('Category')['Sales'].sum().sort_values(ascending=False)\n",
    "cat_sales.plot(kind='bar', title='Total Sales by Category')\n",
    "plt.tight_layout()\n",
    "plt.show()\n"
   ]
  },
  {
   "cell_type": "code",
   "execution_count": null,
   "id": "144209f5",
   "metadata": {},
   "outputs": [],
   "source": [
    "\n",
    "# Monthly Sales Trend\n",
    "monthly = df.set_index('Order Date').resample('M')['Sales'].sum()\n",
    "monthly.plot(title='Monthly Sales Trend')\n",
    "plt.tight_layout()\n",
    "plt.show()\n"
   ]
  },
  {
   "cell_type": "code",
   "execution_count": null,
   "id": "59ffa70d",
   "metadata": {},
   "outputs": [],
   "source": [
    "\n",
    "# Top 10 Products by Sales\n",
    "top_products = df.groupby('Product Name')['Sales'].sum().sort_values(ascending=False).head(10)\n",
    "top_products.plot(kind='barh', title='Top 10 Products by Sales')\n",
    "plt.tight_layout()\n",
    "plt.show()\n"
   ]
  },
  {
   "cell_type": "code",
   "execution_count": null,
   "id": "681f1bd3",
   "metadata": {},
   "outputs": [],
   "source": [
    "\n",
    "# Profit by Region\n",
    "region_profit = df.groupby('Region')['Profit'].sum().sort_values(ascending=False)\n",
    "region_profit.plot(kind='bar', title='Total Profit by Region')\n",
    "plt.tight_layout()\n",
    "plt.show()\n"
   ]
  }
 ],
 "metadata": {},
 "nbformat": 4,
 "nbformat_minor": 5
}
